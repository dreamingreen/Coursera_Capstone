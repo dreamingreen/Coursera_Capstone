{
  "nbformat": 4,
  "nbformat_minor": 0,
  "metadata": {
    "colab": {
      "name": "IBMCapstoneProjectDataSc.ipynb",
      "provenance": [],
      "authorship_tag": "ABX9TyN9KH3te0OjNSh7qLksKpbJ",
      "include_colab_link": true
    },
    "kernelspec": {
      "name": "python3",
      "display_name": "Python 3"
    },
    "language_info": {
      "name": "python"
    }
  },
  "cells": [
    {
      "cell_type": "markdown",
      "metadata": {
        "id": "view-in-github",
        "colab_type": "text"
      },
      "source": [
        "<a href=\"https://colab.research.google.com/gist/dreamingreen/323a4a3e0d2926125ce1614e813360e6/ibmcapstoneprojectdatasc.ipynb\" target=\"_parent\"><img src=\"https://colab.research.google.com/assets/colab-badge.svg\" alt=\"Open In Colab\"/></a>"
      ]
    },
    {
      "cell_type": "markdown",
      "metadata": {
        "id": "EX3ejrjLv4Mc"
      },
      "source": [
        "This notebook will be dedicated to the Data Science Capstone Project "
      ]
    },
    {
      "cell_type": "code",
      "metadata": {
        "id": "fW-YIkOkvW_a"
      },
      "source": [
        "import pandas as pd\n",
        "import numpy as np"
      ],
      "execution_count": null,
      "outputs": []
    },
    {
      "cell_type": "code",
      "metadata": {
        "colab": {
          "base_uri": "https://localhost:8080/"
        },
        "id": "OTAAN3QfwDR7",
        "outputId": "cb619a5e-ea65-48a4-d9b1-80019c371434"
      },
      "source": [
        "print(\"Hello Capstone Project Course!\")"
      ],
      "execution_count": null,
      "outputs": [
        {
          "output_type": "stream",
          "text": [
            "Hello Capstone Project Course!\n"
          ],
          "name": "stdout"
        }
      ]
    }
  ]
}