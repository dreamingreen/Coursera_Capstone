{
  "nbformat": 4,
  "nbformat_minor": 0,
  "metadata": {
    "colab": {
      "name": "IBMCapstoneProjectDataSc.ipynb",
      "provenance": [],
      "authorship_tag": "ABX9TyN9KH3te0OjNSh7qLksKpbJ"
    },
    "kernelspec": {
      "name": "python3",
      "display_name": "Python 3"
    },
    "language_info": {
      "name": "python"
    }
  },
  "cells": [
    {
      "cell_type": "markdown",
      "metadata": {
        "id": "EX3ejrjLv4Mc"
      },
      "source": [
        "This notebook will be dedicated to the Data Science Capstone Project "
      ]
    },
    {
      "cell_type": "code",
      "metadata": {
        "id": "fW-YIkOkvW_a"
      },
      "source": [
        "import pandas as pd\n",
        "import numpy as np"
      ],
      "execution_count": null,
      "outputs": []
    },
    {
      "cell_type": "code",
      "metadata": {
        "colab": {
          "base_uri": "https://localhost:8080/"
        },
        "id": "OTAAN3QfwDR7",
        "outputId": "cb619a5e-ea65-48a4-d9b1-80019c371434"
      },
      "source": [
        "print(\"Hello Capstone Project Course!\")"
      ],
      "execution_count": null,
      "outputs": [
        {
          "output_type": "stream",
          "text": [
            "Hello Capstone Project Course!\n"
          ],
          "name": "stdout"
        }
      ]
    }
  ]
}